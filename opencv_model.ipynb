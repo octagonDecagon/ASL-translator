{
 "metadata": {
  "language_info": {
   "codemirror_mode": {
    "name": "ipython",
    "version": 3
   },
   "file_extension": ".py",
   "mimetype": "text/x-python",
   "name": "python",
   "nbconvert_exporter": "python",
   "pygments_lexer": "ipython3",
   "version": "3.7.9-final"
  },
  "orig_nbformat": 2,
  "kernelspec": {
   "name": "python3",
   "display_name": "Python 3.7.9 64-bit",
   "metadata": {
    "interpreter": {
     "hash": "ff2260c4e6d285b6814876061f80e238c832e1185290de593ba07f1d31db9e41"
    }
   }
  }
 },
 "nbformat": 4,
 "nbformat_minor": 2,
 "cells": [
  {
   "cell_type": "code",
   "execution_count": 5,
   "metadata": {},
   "outputs": [],
   "source": [
    "import numpy as np # linear algebra\n",
    "import pandas as pd # data processing, CSV file I/O (e.g. pd.read_csv)\n",
    "from tensorflow.python.keras.preprocessing.image import ImageDataGenerator\n",
    "import tensorflow as tf\n",
    "from tensorflow.keras.preprocessing import image as image_utils\n",
    "\n",
    "from keras.models import model_from_json\n",
    "from keras.models import load_model\n",
    "from tensorflow import keras\n",
    "\n",
    "from keras.preprocessing.image import load_img, img_to_array, ImageDataGenerator\n",
    "from keras.applications.vgg16 import preprocess_input\n",
    "\n",
    "import cv2\n",
    "import matplotlib.pyplot as plt\n",
    "from PIL import Image"
   ]
  },
  {
   "cell_type": "code",
   "execution_count": 7,
   "metadata": {},
   "outputs": [],
   "source": [
    "labels = {0: 'A',\n",
    " 1: 'B',\n",
    " 2: 'C',\n",
    " 3: 'D',\n",
    " 4: 'E',\n",
    " 5: 'F',\n",
    " 6: 'G',\n",
    " 7: 'H',\n",
    " 8: 'I',\n",
    " 9: 'J',\n",
    " 10: 'K',\n",
    " 11: 'L',\n",
    " 12: 'M',\n",
    " 13: 'N',\n",
    " 14: 'O',\n",
    " 15: 'P',\n",
    " 16: 'Q',\n",
    " 17: 'R',\n",
    " 18: 'S',\n",
    " 19: 'T',\n",
    " 20: 'U',\n",
    " 21: 'V',\n",
    " 22: 'W',\n",
    " 23: 'X',\n",
    " 24: 'Y',\n",
    " 25: 'Z',\n",
    " 26: 'del',\n",
    " 27: 'nothing',\n",
    " 28: 'space'}"
   ]
  },
  {
   "cell_type": "code",
   "execution_count": 3,
   "metadata": {},
   "outputs": [],
   "source": [
    "model = keras.models.load_model('C:\\PythonProjects\\ASL Translator\\my_model_preShuffle.h5')"
   ]
  },
  {
   "cell_type": "code",
   "execution_count": 9,
   "metadata": {},
   "outputs": [
    {
     "output_type": "execute_result",
     "data": {
      "text/plain": [
       "['C']"
      ]
     },
     "metadata": {},
     "execution_count": 9
    }
   ],
   "source": [
    "#read single jpg and make a prediction\n",
    "frame = cv2.imread('C:/PythonProjects/ASL Translator/ASL/random pics/c.jpg')\n",
    "#resize it to 200x200\n",
    "frame = cv2.resize(frame, (200, 200))\n",
    "#change color to RGB\n",
    "frame = cv2.cvtColor(frame, cv2.COLOR_BGR2RGB)\n",
    "\n",
    "#preprocess the image\n",
    "my_image = img_to_array(frame) #processes image to numpy array\n",
    "my_image = my_image.reshape((1, my_image.shape[0], my_image.shape[1], my_image.shape[2])) #reshapes the image \n",
    "my_image = preprocess_input(my_image) #preprocesses image\n",
    "\n",
    "#make the prediction\n",
    "prediction = model.predict(my_image) # this outputs an array that looks like this [0,0,1,0.....] the index of 1 is the actual prediction \n",
    "itemindex = np.where(prediction==1) #returns the index of 1... eg. 3 is C, 4 is D\n",
    "predictions = [labels[k] for k in itemindex[1]] #returns corresponding letter for index\n",
    "predictions\n"
   ]
  },
  {
   "cell_type": "code",
   "execution_count": null,
   "metadata": {},
   "outputs": [],
   "source": [
    "#predictions with live video feed\n",
    "\n",
    "# cap = cv2.VideoCapture('C:/PythonProjects/ASL Translator/ASL.mp4') \n",
    "\n",
    "cap = cv2.VideoCapture(1) \n",
    "\n",
    "if not cap.isOpened():\n",
    "    cap = cv2.VideoCapture(0)\n",
    "if not cap.isOpened():\n",
    "    raise IOError(\"Cannot open webcam\")\n",
    "\n",
    "font_scale = 3\n",
    "font = cv2.FONT_HERSHEY_PLAIN\n",
    "\n",
    "while True :\n",
    "    ret, frame = cap.read()\n",
    "\n",
    "    # We can also use this to only take input from a smaller region of interest\n",
    "\n",
    "    #set location and dimensions for region of interest\n",
    "    x, y, w, h = 300, 100, 300, 300\n",
    "    #Draw a rectangle around region of interest\n",
    "    cv2.rectangle(frame, (x,y), (x+w, y+h), (0,255,0), 2)\n",
    "    #subset the frame to region of interest\n",
    "    frame = frame[y:y+h, x:x+w]\n",
    "\n",
    "    \n",
    "\n",
    "\n",
    "    #resize and convert to RGB\n",
    "    frame_input = cv2.resize(frame, (200, 200))\n",
    "    frame_input = cv2.cvtColor(frame_input, cv2.COLOR_BGR2RGB)\n",
    "\n",
    "    #preprocess the image\n",
    "    my_image = img_to_array(frame_input)\n",
    "    my_image = my_image.reshape((1, my_image.shape[0], my_image.shape[1], my_image.shape[2]))\n",
    "    my_image = preprocess_input(my_image)\n",
    "\n",
    "    #make the prediction\n",
    "    prediction = model.predict(my_image)\n",
    "    itemindex = np.where(prediction==1)\n",
    "    predictions = [labels[k] for k in itemindex[1]]\n",
    "    predictions\n",
    "\n",
    "    #show the video output for the user\n",
    "    cv2.imshow('test', frame)\n",
    "    #print out the predictions in real time\n",
    "    print(predictions)\n",
    "\n",
    "    #if 'q' is pressed, operation stops\n",
    "    if cv2.waitKey(2) & 0xFF == ord('q'):\n",
    "        break"
   ]
  }
 ]
}